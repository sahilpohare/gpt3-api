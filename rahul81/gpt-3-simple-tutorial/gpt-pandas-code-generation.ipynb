{
  "nbformat": 4,
  "nbformat_minor": 0,
  "metadata": {
    "colab": {
      "name": "GPT-3-Pandas-Code.ipynb",
      "provenance": [],
      "collapsed_sections": []
    },
    "kernelspec": {
      "name": "python3",
      "display_name": "Python 3"
    }
  },
  "cells": [
    {
      "cell_type": "code",
      "metadata": {
        "id": "heIf5_ducY8T",
        "colab_type": "code",
        "colab": {
          "base_uri": "https://localhost:8080/",
          "height": 297
        },
        "outputId": "fe2165bc-0b43-4a1b-a9b2-a755ae1d2cd8"
      },
      "source": [
        "!pip install openai"
      ],
      "execution_count": 1,
      "outputs": [
        {
          "output_type": "stream",
          "text": [
            "Collecting openai\n",
            "\u001b[?25l  Downloading https://files.pythonhosted.org/packages/a8/65/c7461f4c87984534683f480ea5742777bc39bbf5721123194c2d0347dc1f/openai-0.2.4.tar.gz (157kB)\n",
            "\u001b[K     |████████████████████████████████| 163kB 2.7MB/s \n",
            "\u001b[?25hRequirement already satisfied: requests>=2.20 in /usr/local/lib/python3.6/dist-packages (from openai) (2.23.0)\n",
            "Requirement already satisfied: certifi>=2017.4.17 in /usr/local/lib/python3.6/dist-packages (from requests>=2.20->openai) (2020.6.20)\n",
            "Requirement already satisfied: chardet<4,>=3.0.2 in /usr/local/lib/python3.6/dist-packages (from requests>=2.20->openai) (3.0.4)\n",
            "Requirement already satisfied: idna<3,>=2.5 in /usr/local/lib/python3.6/dist-packages (from requests>=2.20->openai) (2.10)\n",
            "Requirement already satisfied: urllib3!=1.25.0,!=1.25.1,<1.26,>=1.21.1 in /usr/local/lib/python3.6/dist-packages (from requests>=2.20->openai) (1.24.3)\n",
            "Building wheels for collected packages: openai\n",
            "  Building wheel for openai (setup.py) ... \u001b[?25l\u001b[?25hdone\n",
            "  Created wheel for openai: filename=openai-0.2.4-cp36-none-any.whl size=170709 sha256=3821b7d0954e25e78fcdb4a7718777dcdfa08c7ed830290c2c299c0dae9d8ee6\n",
            "  Stored in directory: /root/.cache/pip/wheels/74/96/c8/c6e170929c276b836613e1b9985343b501fe455e53d85e7d48\n",
            "Successfully built openai\n",
            "Installing collected packages: openai\n",
            "Successfully installed openai-0.2.4\n"
          ],
          "name": "stdout"
        }
      ]
    },
    {
      "cell_type": "code",
      "metadata": {
        "id": "JIObOT-ybumY",
        "colab_type": "code",
        "colab": {}
      },
      "source": [
        "import json\n",
        "import openai\n",
        "import numpy as np\n",
        "import pandas as pd"
      ],
      "execution_count": 2,
      "outputs": []
    },
    {
      "cell_type": "code",
      "metadata": {
        "id": "m42z9jQxqA2b",
        "colab_type": "code",
        "colab": {}
      },
      "source": [
        "with open('GPT_SECRET_KEY.json') as f:\n",
        "    data = json.load(f)"
      ],
      "execution_count": 3,
      "outputs": []
    },
    {
      "cell_type": "code",
      "metadata": {
        "id": "75Yg2gB7p3Q0",
        "colab_type": "code",
        "colab": {}
      },
      "source": [
        "openai.api_key = data[\"API_KEY\"]"
      ],
      "execution_count": 4,
      "outputs": []
    },
    {
      "cell_type": "code",
      "metadata": {
        "id": "N3sAHxJrhBzK",
        "colab_type": "code",
        "colab": {}
      },
      "source": [
        "from gpt import GPT\n",
        "from gpt import Example"
      ],
      "execution_count": 5,
      "outputs": []
    },
    {
      "cell_type": "code",
      "metadata": {
        "id": "XiV0D9PihB2N",
        "colab_type": "code",
        "colab": {}
      },
      "source": [
        "gpt = GPT(engine=\"davinci\",\n",
        "          temperature=0.5,\n",
        "          max_tokens=100)"
      ],
      "execution_count": 6,
      "outputs": []
    },
    {
      "cell_type": "code",
      "metadata": {
        "id": "6qLap8Xgvwjt",
        "colab_type": "code",
        "colab": {}
      },
      "source": [
        "df = pd.DataFrame({\"Gender\": [\"boy\", \"boy\", \"boy\", \"boy\", \"boy\",\n",
        "                         \"girl\", \"girl\", \"girl\", \"girl\"],\n",
        "                   \"Division\": [\"one\", \"one\", \"one\", \"two\", \"two\",\n",
        "                         \"one\", \"one\", \"two\", \"two\"],\n",
        "                   \"Marks\": [50, 55, 67, 85, 44, 84, 65, 56, 87]})"
      ],
      "execution_count": 7,
      "outputs": []
    },
    {
      "cell_type": "code",
      "metadata": {
        "id": "JGQIWZO-AazG",
        "colab_type": "code",
        "colab": {
          "base_uri": "https://localhost:8080/",
          "height": 324
        },
        "outputId": "744be30f-e298-44b9-edf2-02379817d368"
      },
      "source": [
        "df"
      ],
      "execution_count": 8,
      "outputs": [
        {
          "output_type": "execute_result",
          "data": {
            "text/html": [
              "<div>\n",
              "<style scoped>\n",
              "    .dataframe tbody tr th:only-of-type {\n",
              "        vertical-align: middle;\n",
              "    }\n",
              "\n",
              "    .dataframe tbody tr th {\n",
              "        vertical-align: top;\n",
              "    }\n",
              "\n",
              "    .dataframe thead th {\n",
              "        text-align: right;\n",
              "    }\n",
              "</style>\n",
              "<table border=\"1\" class=\"dataframe\">\n",
              "  <thead>\n",
              "    <tr style=\"text-align: right;\">\n",
              "      <th></th>\n",
              "      <th>Gender</th>\n",
              "      <th>Division</th>\n",
              "      <th>Marks</th>\n",
              "    </tr>\n",
              "  </thead>\n",
              "  <tbody>\n",
              "    <tr>\n",
              "      <th>0</th>\n",
              "      <td>boy</td>\n",
              "      <td>one</td>\n",
              "      <td>50</td>\n",
              "    </tr>\n",
              "    <tr>\n",
              "      <th>1</th>\n",
              "      <td>boy</td>\n",
              "      <td>one</td>\n",
              "      <td>55</td>\n",
              "    </tr>\n",
              "    <tr>\n",
              "      <th>2</th>\n",
              "      <td>boy</td>\n",
              "      <td>one</td>\n",
              "      <td>67</td>\n",
              "    </tr>\n",
              "    <tr>\n",
              "      <th>3</th>\n",
              "      <td>boy</td>\n",
              "      <td>two</td>\n",
              "      <td>85</td>\n",
              "    </tr>\n",
              "    <tr>\n",
              "      <th>4</th>\n",
              "      <td>boy</td>\n",
              "      <td>two</td>\n",
              "      <td>44</td>\n",
              "    </tr>\n",
              "    <tr>\n",
              "      <th>5</th>\n",
              "      <td>girl</td>\n",
              "      <td>one</td>\n",
              "      <td>84</td>\n",
              "    </tr>\n",
              "    <tr>\n",
              "      <th>6</th>\n",
              "      <td>girl</td>\n",
              "      <td>one</td>\n",
              "      <td>65</td>\n",
              "    </tr>\n",
              "    <tr>\n",
              "      <th>7</th>\n",
              "      <td>girl</td>\n",
              "      <td>two</td>\n",
              "      <td>56</td>\n",
              "    </tr>\n",
              "    <tr>\n",
              "      <th>8</th>\n",
              "      <td>girl</td>\n",
              "      <td>two</td>\n",
              "      <td>87</td>\n",
              "    </tr>\n",
              "  </tbody>\n",
              "</table>\n",
              "</div>"
            ],
            "text/plain": [
              "  Gender Division  Marks\n",
              "0    boy      one     50\n",
              "1    boy      one     55\n",
              "2    boy      one     67\n",
              "3    boy      two     85\n",
              "4    boy      two     44\n",
              "5   girl      one     84\n",
              "6   girl      one     65\n",
              "7   girl      two     56\n",
              "8   girl      two     87"
            ]
          },
          "metadata": {
            "tags": []
          },
          "execution_count": 8
        }
      ]
    },
    {
      "cell_type": "markdown",
      "metadata": {
        "id": "WwVcHYMOvGiU",
        "colab_type": "text"
      },
      "source": [
        "# Adding Examples for GPT Model"
      ]
    },
    {
      "cell_type": "code",
      "metadata": {
        "id": "0iLR1Y6YqTh7",
        "colab_type": "code",
        "colab": {}
      },
      "source": [
        "gpt.add_example(Example('How many unique values in Division Column?', \n",
        "                        'df[\"Division\"].nunique()'))"
      ],
      "execution_count": 9,
      "outputs": []
    },
    {
      "cell_type": "code",
      "metadata": {
        "id": "x28YlU1-qrCW",
        "colab_type": "code",
        "colab": {}
      },
      "source": [
        "gpt.add_example(Example('Find the Division of boy who scored 55 marks', \n",
        "                        'df.loc[(df.loc[:, \"Gender\"] == \"boy\") & (df.loc[:, \"Marks\"] == 55), \"Division\"]'))"
      ],
      "execution_count": 10,
      "outputs": []
    },
    {
      "cell_type": "code",
      "metadata": {
        "id": "yBQMrnIQx3Uv",
        "colab_type": "code",
        "colab": {}
      },
      "source": [
        "gpt.add_example(Example('Find the average Marks scored by Girls', \n",
        "                        'np.mean(df.loc[(df.loc[:, \"Gender\"] == \"girl\"), \"Marks\"])'))"
      ],
      "execution_count": 11,
      "outputs": []
    },
    {
      "cell_type": "code",
      "metadata": {
        "id": "sua6IdZgw4tR",
        "colab_type": "code",
        "colab": {}
      },
      "source": [
        ""
      ],
      "execution_count": null,
      "outputs": []
    },
    {
      "cell_type": "markdown",
      "metadata": {
        "id": "3mI7FmwSu9AA",
        "colab_type": "text"
      },
      "source": [
        "# Example 1"
      ]
    },
    {
      "cell_type": "code",
      "metadata": {
        "id": "sWSmXABfrdTm",
        "colab_type": "code",
        "colab": {}
      },
      "source": [
        "prompt = \"Display Division of girl who scored maximum marks\""
      ],
      "execution_count": 12,
      "outputs": []
    },
    {
      "cell_type": "code",
      "metadata": {
        "id": "pVzvJtmRqTku",
        "colab_type": "code",
        "colab": {
          "base_uri": "https://localhost:8080/",
          "height": 71
        },
        "outputId": "f1ee2728-2b22-4835-e437-aa7221cf1201"
      },
      "source": [
        "print(gpt.get_top_reply(prompt))"
      ],
      "execution_count": 13,
      "outputs": [
        {
          "output_type": "stream",
          "text": [
            "output: df.loc[(df.loc[:, \"Gender\"] == \"girl\") & (df.loc[:, \"Marks\"] == max(df.loc[:, \"Marks\"])), \"Division\"]\n",
            "\n"
          ],
          "name": "stdout"
        }
      ]
    },
    {
      "cell_type": "code",
      "metadata": {
        "id": "BA_Kzqnjdwwg",
        "colab_type": "code",
        "colab": {
          "base_uri": "https://localhost:8080/",
          "height": 51
        },
        "outputId": "c0bc77c0-e964-45c3-dbe6-7e6b353c8254"
      },
      "source": [
        "df.loc[(df.loc[:, \"Gender\"] == \"girl\") & \n",
        "       (df.loc[:, \"Marks\"] == max(df.loc[:, \"Marks\"])), \n",
        "       \"Division\"]"
      ],
      "execution_count": 14,
      "outputs": [
        {
          "output_type": "execute_result",
          "data": {
            "text/plain": [
              "8    two\n",
              "Name: Division, dtype: object"
            ]
          },
          "metadata": {
            "tags": []
          },
          "execution_count": 14
        }
      ]
    },
    {
      "cell_type": "markdown",
      "metadata": {
        "id": "NopaHtl1_9rH",
        "colab_type": "text"
      },
      "source": [
        "# Example 2"
      ]
    },
    {
      "cell_type": "code",
      "metadata": {
        "id": "eO4IW_H_y_5F",
        "colab_type": "code",
        "colab": {}
      },
      "source": [
        "prompt = \"Find the median Marks scored by Boys\""
      ],
      "execution_count": 15,
      "outputs": []
    },
    {
      "cell_type": "code",
      "metadata": {
        "id": "Q8ldVXxhyGVD",
        "colab_type": "code",
        "colab": {
          "base_uri": "https://localhost:8080/",
          "height": 51
        },
        "outputId": "611ff255-3feb-4f98-d1ff-197a8c0466eb"
      },
      "source": [
        "print(gpt.get_top_reply(prompt))"
      ],
      "execution_count": 16,
      "outputs": [
        {
          "output_type": "stream",
          "text": [
            "output: np.median(df.loc[(df.loc[:, \"Gender\"] == \"boy\"), \"Marks\"])\n",
            "\n"
          ],
          "name": "stdout"
        }
      ]
    },
    {
      "cell_type": "code",
      "metadata": {
        "id": "wUi-UN62zJe_",
        "colab_type": "code",
        "colab": {
          "base_uri": "https://localhost:8080/",
          "height": 34
        },
        "outputId": "4f5a164e-03ac-40ed-a135-f5aee4f45c59"
      },
      "source": [
        "np.median(df.loc[(df.loc[:, \"Gender\"] == \"boy\"), \"Marks\"])"
      ],
      "execution_count": 17,
      "outputs": [
        {
          "output_type": "execute_result",
          "data": {
            "text/plain": [
              "55.0"
            ]
          },
          "metadata": {
            "tags": []
          },
          "execution_count": 17
        }
      ]
    },
    {
      "cell_type": "code",
      "metadata": {
        "id": "Cf6vxbTADRpf",
        "colab_type": "code",
        "colab": {}
      },
      "source": [
        ""
      ],
      "execution_count": null,
      "outputs": []
    }
  ]
}