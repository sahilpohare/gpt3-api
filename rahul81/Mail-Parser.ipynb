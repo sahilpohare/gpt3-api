{
 "cells": [
  {
   "cell_type": "markdown",
   "metadata": {},
   "source": [
    "## Importing the Packages"
   ]
  },
  {
   "cell_type": "code",
   "execution_count": 16,
   "metadata": {},
   "outputs": [],
   "source": [
    "from bs4 import BeautifulSoup\n",
    "import openai\n",
    "from gpt import Example\n",
    "from gpt import GPT\n",
    "from converter import convert\n",
    "from gpt_train import gpt_invite"
   ]
  },
  {
   "cell_type": "code",
   "execution_count": 17,
   "metadata": {},
   "outputs": [],
   "source": [
    "openai.api_key = 'sk-r5uc6is7lzeluGzpT0DOfYjbeJh7s8WPmMyfhngY' "
   ]
  },
  {
   "cell_type": "markdown",
   "metadata": {},
   "source": [
    "## Loading the HTML E-mail and Parsing"
   ]
  },
  {
   "cell_type": "code",
   "execution_count": 18,
   "metadata": {},
   "outputs": [],
   "source": [
    "#Function to load the HTML and parse it into string\n",
    "PATH = './html/'\n",
    "def read_html(path):\n",
    "    with open(path,'r') as f:\n",
    "        resp = f.read()\n",
    "        f.close()\n",
    "    return resp                       "
   ]
  },
  {
   "cell_type": "code",
   "execution_count": 19,
   "metadata": {},
   "outputs": [],
   "source": [
    "mail1 = read_html(PATH + 'invite1.html')\n",
    "mail_test = convert(mail1)"
   ]
  },
  {
   "cell_type": "code",
   "execution_count": 20,
   "metadata": {
    "scrolled": true
   },
   "outputs": [
    {
     "name": "stdout",
     "output_type": "stream",
     "text": [
      "rahul81 invited you to rahul81/GPT3parser @rahul81 has invited you to collaborate on therahul81/GPT3parser repository You can accept or decline this invitation. You can also visit @rahul81 to learn a bit more about them. This invitation will expire in 7 days. View invitation Note: This invitation was intended for sahilpohare@gmail.com. If you were not expecting this invitation, you can ignore this email. If @rahul81 is sending you too many emails, you can block them or report abuse. Getting a 404 error? Make sure you’re signed in as sahilpohare. Button not working? Copy and paste this link into your browser: https://github.com/rahul81/GPT3parser/invitations Manage your GitHub email preferences Terms • Privacy • Log in to GitHub GitHub, Inc. 88 Colin P Kelly Jr Street San Francisco, CA 94107\n"
     ]
    }
   ],
   "source": [
    "print(mail_test)"
   ]
  },
  {
   "cell_type": "markdown",
   "metadata": {},
   "source": [
    "## Model to give the output"
   ]
  },
  {
   "cell_type": "code",
   "execution_count": 25,
   "metadata": {},
   "outputs": [],
   "source": [
    "mail_json = gpt_invite(mail_test)['choices'][0].text.replace('output:','').strip()"
   ]
  },
  {
   "cell_type": "code",
   "execution_count": 26,
   "metadata": {},
   "outputs": [
    {
     "data": {
      "text/plain": [
       "'{\"name\":\"sahilpohare\",\"invitor\":\"rahul81\",\"repository\":\"GPT3parser\",\"repo_link\":\"https://github.com/rahul81/GPT3parser\",\"type\":\"invitation\"}'"
      ]
     },
     "execution_count": 26,
     "metadata": {},
     "output_type": "execute_result"
    }
   ],
   "source": [
    "mail_json"
   ]
  }
 ],
 "metadata": {
  "kernelspec": {
   "display_name": "Python 3",
   "language": "python",
   "name": "python3"
  },
  "language_info": {
   "codemirror_mode": {
    "name": "ipython",
    "version": 3
   },
   "file_extension": ".py",
   "mimetype": "text/x-python",
   "name": "python",
   "nbconvert_exporter": "python",
   "pygments_lexer": "ipython3",
   "version": "3.8.2"
  }
 },
 "nbformat": 4,
 "nbformat_minor": 4
}
