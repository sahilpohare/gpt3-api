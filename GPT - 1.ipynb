{
 "cells": [
  {
   "cell_type": "code",
   "execution_count": 15,
   "metadata": {},
   "outputs": [],
   "source": [
    "import openai\n",
    "from openai.api_resources import *  \n",
    "from openai.api_resources.engine import Engine"
   ]
  },
  {
   "cell_type": "code",
   "execution_count": 3,
   "metadata": {},
   "outputs": [],
   "source": [
    "openai.api_key = \"sk-r5uc6is7lzeluGzpT0DOfYjbeJh7s8WPmMyfhngY\"\n",
    "response = openai.Completion.create(engine=\"davinci\", prompt=\"This is a test\", max_tokens=5)"
   ]
  },
  {
   "cell_type": "markdown",
   "metadata": {},
   "source": [
    "### Mail Loading"
   ]
  },
  {
   "cell_type": "code",
   "execution_count": 20,
   "metadata": {},
   "outputs": [],
   "source": [
    "mail_std = \"\"\"Date: Sat, 01 Aug 2020 08:50:04 -0700\n",
    "From: GitHub <noreply@github.com>\n",
    "To: nikhilm21 <nkmishra0103@gmail.com>\n",
    "Message-ID: <5f258f2cda68d_57eb16f8211496@github-lowworker-f144ac1.va3-iad.github.net.mail>\n",
    "Subject: [GitHub] Please verify your device\n",
    "Mime-Version: 1.0\n",
    "Content-Type: text/plain; charset=UTF-8\n",
    "Content-Transfer-Encoding: 7bit\n",
    "X-Auto-Response-Suppress: All\n",
    "\n",
    "Hey nikhilm21!\n",
    "\n",
    "A sign in attempt requires further verification because we did not recognize your device. To complete the sign in, enter the verification code on the unrecognized device.\n",
    "\n",
    "Device: Chrome on Android\n",
    "Verification code: 324644\n",
    "\n",
    "If you did not attempt to sign in to your account, your password may be compromised. Visit https://github.com/settings/security to create a new, strong password for your GitHub account.\n",
    "\n",
    "If you'd like to automatically verify devices in the future, consider enabling two-factor authentication on your account. Visit https://help.github.com/articles/configuring-two-factor-authentication learn about two-factor authentication.\n",
    "\n",
    "If you decide to enable two-factor authentication, ensure you retain access to one or more account recovery methods. See https://help.github.com/articles/configuring-two-factor-authentication-recovery-methods in the GitHub Help.\n",
    "\n",
    "Thanks,\n",
    "The GitHub Team\n",
    "\"\"\""
   ]
  },
  {
   "cell_type": "code",
   "execution_count": 19,
   "metadata": {},
   "outputs": [],
   "source": [
    "mail_def = \"\"\"[GitHub] Please verify your device\n",
    "Inbox\n",
    "\tx\n",
    "GitHub <noreply@github.com>\n",
    "\t\n",
    "Sat, 1 Aug, 21:20 (4 days ago)\n",
    "\t\n",
    "to me\n",
    "Hey nikhilm21!\n",
    "\n",
    "A sign in attempt requires further verification because we did not recognize your device. To complete the sign in, enter the verification code on the unrecognized device.\n",
    "\n",
    "Device: Chrome on Android\n",
    "Verification code: 324644\n",
    "\n",
    "If you did not attempt to sign in to your account, your password may be compromised. Visit https://github.com/settings/security to create a new, strong password for your GitHub account.\n",
    "\n",
    "If you'd like to automatically verify devices in the future, consider enabling two-factor authentication on your account. Visit https://help.github.com/articles/configuring-two-factor-authentication learn about two-factor authentication.\n",
    "\n",
    "If you decide to enable two-factor authentication, ensure you retain access to one or more account recovery methods. See https://help.github.com/articles/configuring-two-factor-authentication-recovery-methods in the GitHub Help.\n",
    "\n",
    "Thanks,\n",
    "The GitHub Team\"\"\""
   ]
  },
  {
   "cell_type": "code",
   "execution_count": 47,
   "metadata": {},
   "outputs": [
    {
     "data": {
      "text/plain": [
       "145"
      ]
     },
     "execution_count": 47,
     "metadata": {},
     "output_type": "execute_result"
    }
   ],
   "source": [
    "word_count = len(mail_std.split()) #should not exceed 2000\n",
    "word_count"
   ]
  },
  {
   "cell_type": "code",
   "execution_count": 54,
   "metadata": {},
   "outputs": [],
   "source": [
    "def Convert(string): \n",
    "    li = list(string.split(\" \")) \n",
    "    return li \n",
    "\n",
    "mail_arr = Convert(mail_std)"
   ]
  },
  {
   "cell_type": "markdown",
   "metadata": {},
   "source": [
    "### List Engines"
   ]
  },
  {
   "cell_type": "code",
   "execution_count": 21,
   "metadata": {},
   "outputs": [
    {
     "data": {
      "text/plain": [
       "<OpenAIObject list at 0x7efe51f57900> JSON: {\n",
       "  \"data\": [\n",
       "    {\n",
       "      \"id\": \"ada\",\n",
       "      \"object\": \"engine\",\n",
       "      \"owner\": \"openai\",\n",
       "      \"ready\": true\n",
       "    },\n",
       "    {\n",
       "      \"id\": \"babbage\",\n",
       "      \"object\": \"engine\",\n",
       "      \"owner\": \"openai\",\n",
       "      \"ready\": true\n",
       "    },\n",
       "    {\n",
       "      \"id\": \"curie\",\n",
       "      \"object\": \"engine\",\n",
       "      \"owner\": \"openai\",\n",
       "      \"ready\": true\n",
       "    },\n",
       "    {\n",
       "      \"id\": \"davinci\",\n",
       "      \"object\": \"engine\",\n",
       "      \"owner\": \"openai\",\n",
       "      \"ready\": true\n",
       "    }\n",
       "  ],\n",
       "  \"object\": \"list\"\n",
       "}"
      ]
     },
     "execution_count": 21,
     "metadata": {},
     "output_type": "execute_result"
    }
   ],
   "source": [
    "openai.Engine.list()"
   ]
  },
  {
   "cell_type": "markdown",
   "metadata": {},
   "source": [
    "#### Create Completetion"
   ]
  },
  {
   "cell_type": "code",
   "execution_count": 43,
   "metadata": {},
   "outputs": [
    {
     "data": {
      "text/plain": [
       "<OpenAIObject text_completion id=cmpl-jQ4RDFdzvu4DGzwMw5hkM3Y5 at 0x7efe521dc900> JSON: {\n",
       "  \"choices\": [\n",
       "    {\n",
       "      \"finish_reason\": \"length\",\n",
       "      \"index\": 0,\n",
       "      \"logprobs\": null,\n",
       "      \"text\": \" series of \\u201cfirsts\\u201d.\\n\\nI was the first in my family to go to college.\\n\\nI was the first in my family to get a graduate degree.\\n\\nI was the first in my family to buy a\"\n",
       "    }\n",
       "  ],\n",
       "  \"created\": 1596629421,\n",
       "  \"id\": \"cmpl-jQ4RDFdzvu4DGzwMw5hkM3Y5\",\n",
       "  \"model\": \"davinci:2020-05-03\",\n",
       "  \"object\": \"text_completion\"\n",
       "}"
      ]
     },
     "execution_count": 43,
     "metadata": {},
     "output_type": "execute_result"
    }
   ],
   "source": [
    "openai.Completion.create(\n",
    "    engine =\"davinci\",\n",
    "    prompt = 'My life is a',\n",
    "    max_tokens = 50,\n",
    "    temperature = 0.3 \n",
    ")"
   ]
  },
  {
   "cell_type": "markdown",
   "metadata": {},
   "source": [
    "### Search"
   ]
  },
  {
   "cell_type": "code",
   "execution_count": 55,
   "metadata": {},
   "outputs": [
    {
     "data": {
      "text/plain": [
       "['Date:',\n",
       " 'Sat,',\n",
       " '01',\n",
       " 'Aug',\n",
       " '2020',\n",
       " '08:50:04',\n",
       " '-0700\\nFrom:',\n",
       " 'GitHub',\n",
       " '<noreply@github.com>\\nTo:',\n",
       " 'nikhilm21',\n",
       " '<nkmishra0103@gmail.com>\\nMessage-ID:',\n",
       " '<5f258f2cda68d_57eb16f8211496@github-lowworker-f144ac1.va3-iad.github.net.mail>\\nSubject:',\n",
       " '[GitHub]',\n",
       " 'Please',\n",
       " 'verify',\n",
       " 'your',\n",
       " 'device\\nMime-Version:',\n",
       " '1.0\\nContent-Type:',\n",
       " 'text/plain;',\n",
       " 'charset=UTF-8\\nContent-Transfer-Encoding:',\n",
       " '7bit\\nX-Auto-Response-Suppress:',\n",
       " 'All\\n\\nHey',\n",
       " 'nikhilm21!\\n\\nA',\n",
       " 'sign',\n",
       " 'in',\n",
       " 'attempt',\n",
       " 'requires',\n",
       " 'further',\n",
       " 'verification',\n",
       " 'because',\n",
       " 'we',\n",
       " 'did',\n",
       " 'not',\n",
       " 'recognize',\n",
       " 'your',\n",
       " 'device.',\n",
       " 'To',\n",
       " 'complete',\n",
       " 'the',\n",
       " 'sign',\n",
       " 'in,',\n",
       " 'enter',\n",
       " 'the',\n",
       " 'verification',\n",
       " 'code',\n",
       " 'on',\n",
       " 'the',\n",
       " 'unrecognized',\n",
       " 'device.\\n\\nDevice:',\n",
       " 'Chrome',\n",
       " 'on',\n",
       " 'Android\\nVerification',\n",
       " 'code:',\n",
       " '324644\\n\\nIf',\n",
       " 'you',\n",
       " 'did',\n",
       " 'not',\n",
       " 'attempt',\n",
       " 'to',\n",
       " 'sign',\n",
       " 'in',\n",
       " 'to',\n",
       " 'your',\n",
       " 'account,',\n",
       " 'your',\n",
       " 'password',\n",
       " 'may',\n",
       " 'be',\n",
       " 'compromised.',\n",
       " 'Visit',\n",
       " 'https://github.com/settings/security',\n",
       " 'to',\n",
       " 'create',\n",
       " 'a',\n",
       " 'new,',\n",
       " 'strong',\n",
       " 'password',\n",
       " 'for',\n",
       " 'your',\n",
       " 'GitHub',\n",
       " 'account.\\n\\nIf',\n",
       " \"you'd\",\n",
       " 'like',\n",
       " 'to',\n",
       " 'automatically',\n",
       " 'verify',\n",
       " 'devices',\n",
       " 'in',\n",
       " 'the',\n",
       " 'future,',\n",
       " 'consider',\n",
       " 'enabling',\n",
       " 'two-factor',\n",
       " 'authentication',\n",
       " 'on',\n",
       " 'your',\n",
       " 'account.',\n",
       " 'Visit',\n",
       " 'https://help.github.com/articles/configuring-two-factor-authentication',\n",
       " 'learn',\n",
       " 'about',\n",
       " 'two-factor',\n",
       " 'authentication.\\n\\nIf',\n",
       " 'you',\n",
       " 'decide',\n",
       " 'to',\n",
       " 'enable',\n",
       " 'two-factor',\n",
       " 'authentication,',\n",
       " 'ensure',\n",
       " 'you',\n",
       " 'retain',\n",
       " 'access',\n",
       " 'to',\n",
       " 'one',\n",
       " 'or',\n",
       " 'more',\n",
       " 'account',\n",
       " 'recovery',\n",
       " 'methods.',\n",
       " 'See',\n",
       " 'https://help.github.com/articles/configuring-two-factor-authentication-recovery-methods',\n",
       " 'in',\n",
       " 'the',\n",
       " 'GitHub',\n",
       " 'Help.\\n\\nThanks,\\nThe',\n",
       " 'GitHub',\n",
       " 'Team\\n']"
      ]
     },
     "execution_count": 55,
     "metadata": {},
     "output_type": "execute_result"
    }
   ],
   "source": [
    "mail_arr"
   ]
  },
  {
   "cell_type": "code",
   "execution_count": 75,
   "metadata": {},
   "outputs": [],
   "source": [
    "res =  openai.Engine('davinci').search(\n",
    "    documents = mail_arr,\n",
    "    query = 'from'\n",
    ")"
   ]
  },
  {
   "cell_type": "code",
   "execution_count": 76,
   "metadata": {},
   "outputs": [],
   "source": [
    "docu = []\n",
    "score = []\n",
    "for i in res['data']:\n",
    "    docu.append(i.document)\n",
    "    score.append(i.score)"
   ]
  },
  {
   "cell_type": "code",
   "execution_count": null,
   "metadata": {},
   "outputs": [],
   "source": []
  }
 ],
 "metadata": {
  "kernelspec": {
   "display_name": "Python 3",
   "language": "python",
   "name": "python3"
  },
  "language_info": {
   "codemirror_mode": {
    "name": "ipython",
    "version": 3
   },
   "file_extension": ".py",
   "mimetype": "text/x-python",
   "name": "python",
   "nbconvert_exporter": "python",
   "pygments_lexer": "ipython3",
   "version": "3.8.2"
  }
 },
 "nbformat": 4,
 "nbformat_minor": 4
}
